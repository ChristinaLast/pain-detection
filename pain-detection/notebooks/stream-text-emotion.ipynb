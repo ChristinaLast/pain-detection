{
  "cells": [
    {
      "cell_type": "markdown",
      "metadata": {},
      "source": [
        "## Stream / Language Emotion\n",
        "\n",
        "This notebook uses the streaming API to analyze a MediaPipe facemesh."
      ]
    },
    {
      "cell_type": "code",
      "execution_count": null,
      "metadata": {},
      "outputs": [
        {
          "ename": "",
          "evalue": "",
          "output_type": "error",
          "traceback": [
            "\u001b[1;31mFailed to start the Kernel. \n",
            "\u001b[1;31mJupyter server crashed. Unable to connect. \n",
            "\u001b[1;31mError code from Jupyter: 1\n",
            "\u001b[1;31mTraceback (most recent call last):\n",
            "\u001b[1;31m  File \"/Users/ChristinaAdmin/.local/bin/jupyter-notebook\", line 5, in <module>\n",
            "\u001b[1;31m    from notebook.app import main\n",
            "\u001b[1;31m  File \"/Users/ChristinaAdmin/.local/lib/python3.9/site-packages/notebook/app.py\", line 12, in <module>\n",
            "\u001b[1;31m    from jupyter_server.base.handlers import JupyterHandler\n",
            "\u001b[1;31m  File \"/Users/ChristinaAdmin/.local/lib/python3.9/site-packages/jupyter_server/base/handlers.py\", line 32, in <module>\n",
            "\u001b[1;31m    from jupyter_server.auth.decorator import authorized\n",
            "\u001b[1;31m  File \"/Users/ChristinaAdmin/.local/lib/python3.9/site-packages/jupyter_server/auth/__init__.py\", line 2, in <module>\n",
            "\u001b[1;31m    from .decorator import authorized\n",
            "\u001b[1;31m  File \"/Users/ChristinaAdmin/.local/lib/python3.9/site-packages/jupyter_server/auth/decorator.py\", line 9, in <module>\n",
            "\u001b[1;31m    from jupyter_core.utils import ensure_async\n",
            "\u001b[1;31mImportError: cannot import name 'ensure_async' from 'jupyter_core.utils' (/Users/ChristinaAdmin/.pyenv/versions/3.9.0/lib/python3.9/site-packages/jupyter_core/utils/__init__.py). \n",
            "\u001b[1;31mView Jupyter <a href='command:jupyter.viewOutput'>log</a> for further details."
          ]
        }
      ],
      "source": [
        "import asyncio\n",
        "import time\n",
        "import traceback\n",
        "\n",
        "from utilities import print_emotions\n",
        "\n",
        "from hume import HumeStreamClient\n",
        "from hume.models.config import LanguageConfig"
      ]
    },
    {
      "cell_type": "code",
      "execution_count": null,
      "metadata": {},
      "outputs": [],
      "source": [
        "text_stream = [\n",
        "    \"Hello there! \",\n",
        "    \"I'm very excited to show \",\n",
        "    \"you a demonstration of text streaming \",\n",
        "    \"using the Hume expressive communication platform.\",\n",
        "]\n",
        "\n",
        "async def main():\n",
        "    try:\n",
        "        client = HumeStreamClient(\"149BtIPH27m8pyrZDYPzcB2GKkbBgDUGD92mq38ftqGIHYSj\")\n",
        "        config = LanguageConfig(granularity=\"sentence\")\n",
        "        async with client.connect([config]) as socket:\n",
        "            for text_sample in text_stream:\n",
        "                # Simulate real time speaking with a delay\n",
        "                time.sleep(0.25 * len(text_sample.split(\" \")))\n",
        "                result = await socket.send_text(text_sample)\n",
        "                emotions = result[\"language\"][\"predictions\"][0][\"emotions\"]\n",
        "                print(f\"\\n{text_sample}\")\n",
        "                print_emotions(emotions)\n",
        "    except Exception:\n",
        "        print(traceback.format_exc())\n",
        "\n",
        "# When running the streaming API outside of a Jupyter notebook you do not need these lines.\n",
        "# Jupyter has its own async event loop, so this merges main into the Jupyter event loop.\n",
        "# To run this sample in a script with asyncio you can use `asyncio.run(main())`\n",
        "loop = asyncio.get_event_loop()\n",
        "loop.create_task(main())"
      ]
    },
    {
      "cell_type": "code",
      "execution_count": null,
      "metadata": {},
      "outputs": [],
      "source": []
    }
  ],
  "metadata": {
    "kernelspec": {
      "display_name": "hume",
      "language": "python",
      "name": "python3"
    },
    "language_info": {
      "codemirror_mode": {
        "name": "ipython",
        "version": 3
      },
      "file_extension": ".py",
      "mimetype": "text/x-python",
      "name": "python",
      "nbconvert_exporter": "python",
      "pygments_lexer": "ipython3",
      "version": "3.9.18"
    }
  },
  "nbformat": 4,
  "nbformat_minor": 2
}
